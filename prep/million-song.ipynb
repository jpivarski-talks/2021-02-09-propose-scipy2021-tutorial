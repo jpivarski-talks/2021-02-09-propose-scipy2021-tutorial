{
 "cells": [
  {
   "cell_type": "code",
   "execution_count": null,
   "id": "federal-florence",
   "metadata": {},
   "outputs": [],
   "source": [
    "import time"
   ]
  },
  {
   "cell_type": "code",
   "execution_count": 1,
   "id": "flush-bleeding",
   "metadata": {},
   "outputs": [],
   "source": [
    "import numpy as np"
   ]
  },
  {
   "cell_type": "code",
   "execution_count": 2,
   "id": "distinguished-corruption",
   "metadata": {},
   "outputs": [],
   "source": [
    "import awkward as ak"
   ]
  },
  {
   "cell_type": "code",
   "execution_count": 3,
   "id": "little-collector",
   "metadata": {},
   "outputs": [],
   "source": [
    "import matplotlib.pyplot as plt"
   ]
  },
  {
   "cell_type": "code",
   "execution_count": 4,
   "id": "coordinated-librarian",
   "metadata": {},
   "outputs": [
    {
     "data": {
      "text/plain": [
       "<Array [...] type='1000000 * {\"hdf5_filename\": string, \"analysis\": {\"bars\": var ...'>"
      ]
     },
     "execution_count": 4,
     "metadata": {},
     "output_type": "execute_result"
    }
   ],
   "source": [
    "# http://millionsongdataset.com/pages/field-list/\n",
    "songs = ak.from_parquet(\"~/storage/data/million-song-dataset/full/millionsongs\", lazy=True)\n",
    "songs"
   ]
  },
  {
   "cell_type": "code",
   "execution_count": 5,
   "id": "conventional-thread",
   "metadata": {},
   "outputs": [],
   "source": [
    "key_shift = ak.Array([\n",
    "    [ 0,  1,  2,  3,  4,  5,  6,  7,  8,  9, 10, 11],\n",
    "    [ 1,  2,  3,  4,  5,  6,  7,  8,  9, 10, 11,  0],\n",
    "    [ 2,  3,  4,  5,  6,  7,  8,  9, 10, 11,  0,  1],\n",
    "    [ 3,  4,  5,  6,  7,  8,  9, 10, 11,  0,  1,  2],\n",
    "    [ 4,  5,  6,  7,  8,  9, 10, 11,  0,  1,  2,  3],\n",
    "    [ 5,  6,  7,  8,  9, 10, 11,  0,  1,  2,  3,  4],\n",
    "    [ 6,  7,  8,  9, 10, 11,  0,  1,  2,  3,  4,  5],\n",
    "    [ 7,  8,  9, 10, 11,  0,  1,  2,  3,  4,  5,  6],\n",
    "    [ 8,  9, 10, 11,  0,  1,  2,  3,  4,  5,  6,  7],\n",
    "    [ 9, 10, 11,  0,  1,  2,  3,  4,  5,  6,  7,  8],\n",
    "    [10, 11,  0,  1,  2,  3,  4,  5,  6,  7,  8,  9],\n",
    "    [11,  0,  1,  2,  3,  4,  5,  6,  7,  8,  9, 10],\n",
    "])"
   ]
  },
  {
   "cell_type": "code",
   "execution_count": 6,
   "id": "liberal-bible",
   "metadata": {},
   "outputs": [],
   "source": [
    "# some_songs = songs[:10000]\n",
    "some_songs = ak.Array(songs.layout.partitions[0])"
   ]
  },
  {
   "cell_type": "code",
   "execution_count": 7,
   "id": "tutorial-crystal",
   "metadata": {},
   "outputs": [],
   "source": [
    "shift_for_song = key_shift[some_songs.analysis.key]"
   ]
  },
  {
   "cell_type": "code",
   "execution_count": 8,
   "id": "realistic-exclusion",
   "metadata": {},
   "outputs": [],
   "source": [
    "shifted_pitches = some_songs.analysis.segments.pitches[shift_for_song[:, np.newaxis]]"
   ]
  },
  {
   "cell_type": "code",
   "execution_count": 9,
   "id": "superior-classics",
   "metadata": {},
   "outputs": [],
   "source": [
    "sorted_pitches = ak.argsort(shifted_pitches, axis=-1)"
   ]
  },
  {
   "cell_type": "code",
   "execution_count": 10,
   "id": "monetary-triumph",
   "metadata": {},
   "outputs": [
    {
     "data": {
      "image/png": "[encoded data removed]",
      "text/plain": [
       "<Figure size 432x288 with 1 Axes>"
      ]
     },
     "metadata": {
      "needs_background": "light"
     },
     "output_type": "display_data"
    }
   ],
   "source": [
    "second_loudest = sorted_pitches[:, :, -2]\n",
    "first_loudest = sorted_pitches[:, :, -1]\n",
    "\n",
    "fig, ax = plt.subplots(1, 1)\n",
    "ax.hist2d(\n",
    "    np.asarray(ak.flatten(first_loudest)),\n",
    "    np.asarray(ak.flatten(second_loudest)),\n",
    "    bins=(12, 12),\n",
    "    range=((-0.5, 11.5), (-0.5, 11.5)),\n",
    "    cmap=\"Reds\",\n",
    ");\n",
    "ax.set_aspect(1)"
   ]
  },
  {
   "cell_type": "code",
   "execution_count": 11,
   "id": "meaningful-supply",
   "metadata": {},
   "outputs": [],
   "source": [
    "loudest_pitches = ak.argmax(shifted_pitches, axis=-1)"
   ]
  },
  {
   "cell_type": "code",
   "execution_count": 12,
   "id": "loose-integrity",
   "metadata": {},
   "outputs": [
    {
     "data": {
      "image/png": "[encoded data removed]",
      "text/plain": [
       "<Figure size 432x288 with 1 Axes>"
      ]
     },
     "metadata": {
      "needs_background": "light"
     },
     "output_type": "display_data"
    }
   ],
   "source": [
    "before = loudest_pitches[:, :-1]\n",
    "after = loudest_pitches[:, 1:]\n",
    "\n",
    "fig, ax = plt.subplots(1, 1)\n",
    "ax.hist2d(\n",
    "    np.asarray(ak.flatten(before)),\n",
    "    np.asarray(ak.flatten(after)),\n",
    "    bins=(12, 12),\n",
    "    range=((-0.5, 11.5), (-0.5, 11.5)),\n",
    "    cmap=\"Reds\",\n",
    ")\n",
    "ax.set_aspect(1)"
   ]
  },
  {
   "cell_type": "code",
   "execution_count": 13,
   "id": "filled-prior",
   "metadata": {},
   "outputs": [],
   "source": [
    "segment_new_loudest = ak.concatenate([True, before != after], axis=1)"
   ]
  },
  {
   "cell_type": "code",
   "execution_count": 14,
   "id": "engaging-vegetable",
   "metadata": {},
   "outputs": [],
   "source": [
    "segment_loudest_change = ak.local_index(shifted_pitches, axis=1)[segment_new_loudest]"
   ]
  },
  {
   "cell_type": "code",
   "execution_count": 15,
   "id": "plastic-georgia",
   "metadata": {},
   "outputs": [],
   "source": [
    "run_length = segment_loudest_change[:, 1:] - segment_loudest_change[:, :-1]"
   ]
  },
  {
   "cell_type": "code",
   "execution_count": 16,
   "id": "colonial-bangkok",
   "metadata": {},
   "outputs": [],
   "source": [
    "last_run = ak.num(shifted_pitches) - ak.sum(run_length, axis=-1)"
   ]
  },
  {
   "cell_type": "code",
   "execution_count": 17,
   "id": "careful-pearl",
   "metadata": {},
   "outputs": [],
   "source": [
    "full_run_length = ak.concatenate([ak.fill_none(run_length, 0), last_run[:, np.newaxis]], axis=1)"
   ]
  },
  {
   "cell_type": "code",
   "execution_count": 18,
   "id": "surprised-allen",
   "metadata": {},
   "outputs": [],
   "source": [
    "grouped_by_same_loudest = ak.unflatten(ak.flatten(shifted_pitches), ak.flatten(full_run_length))"
   ]
  },
  {
   "cell_type": "code",
   "execution_count": 19,
   "id": "extended-alert",
   "metadata": {},
   "outputs": [],
   "source": [
    "mean_in_each_group = ak.mean(grouped_by_same_loudest, axis=1)"
   ]
  },
  {
   "cell_type": "code",
   "execution_count": 20,
   "id": "speaking-guarantee",
   "metadata": {},
   "outputs": [],
   "source": [
    "pitches_in_runs = ak.unflatten(mean_in_each_group, ak.num(full_run_length))"
   ]
  },
  {
   "cell_type": "code",
   "execution_count": 21,
   "id": "after-oasis",
   "metadata": {},
   "outputs": [],
   "source": [
    "loudest_in_runs = ak.argmax(pitches_in_runs, axis=-1)"
   ]
  },
  {
   "cell_type": "code",
   "execution_count": 22,
   "id": "loose-angle",
   "metadata": {},
   "outputs": [
    {
     "data": {
      "image/png": "[encoded data removed]",
      "text/plain": [
       "<Figure size 432x288 with 1 Axes>"
      ]
     },
     "metadata": {
      "needs_background": "light"
     },
     "output_type": "display_data"
    }
   ],
   "source": [
    "before = loudest_in_runs[:, :-1]\n",
    "after = loudest_in_runs[:, 1:]\n",
    "\n",
    "fig, ax = plt.subplots(1, 1)\n",
    "ax.hist2d(\n",
    "    np.asarray(ak.flatten(before)),\n",
    "    np.asarray(ak.flatten(after)),\n",
    "    bins=(12, 12),\n",
    "    range=((-0.5, 11.5), (-0.5, 11.5)),\n",
    "    cmap=\"Reds\",\n",
    ")\n",
    "ax.set_aspect(1)"
   ]
  },
  {
   "cell_type": "code",
   "execution_count": 94,
   "id": "premier-humanity",
   "metadata": {},
   "outputs": [],
   "source": [
    "interval_numbers = loudest_in_runs[:, :-1] + 12 * loudest_in_runs[:, 1:]"
   ]
  },
  {
   "cell_type": "code",
   "execution_count": 95,
   "id": "checked-fossil",
   "metadata": {},
   "outputs": [
    {
     "data": {
      "text/plain": [
       "<Array [[69, 113, 93, 7, ... 115, 57, 88, 79]] type='1000 * var * ?int64'>"
      ]
     },
     "execution_count": 95,
     "metadata": {},
     "output_type": "execute_result"
    }
   ],
   "source": [
    "interval_numbers"
   ]
  },
  {
   "cell_type": "code",
   "execution_count": 97,
   "id": "eligible-literature",
   "metadata": {},
   "outputs": [],
   "source": [
    "numbers_to_match = ak.Array(np.arange(144))[np.newaxis, np.newaxis, :]"
   ]
  },
  {
   "cell_type": "code",
   "execution_count": 98,
   "id": "heavy-outside",
   "metadata": {},
   "outputs": [],
   "source": [
    "intervals_per_song = ak.mean(interval_numbers == numbers_to_match, axis=1)"
   ]
  },
  {
   "cell_type": "code",
   "execution_count": 100,
   "id": "pressed-riding",
   "metadata": {},
   "outputs": [],
   "source": [
    "np_intervals_per_song = np.asarray(intervals_per_song)"
   ]
  },
  {
   "cell_type": "code",
   "execution_count": 107,
   "id": "honey-beauty",
   "metadata": {},
   "outputs": [
    {
     "data": {
      "image/png": "[encoded data removed]",
      "text/plain": [
       "<Figure size 432x288 with 1 Axes>"
      ]
     },
     "metadata": {
      "needs_background": "light"
     },
     "output_type": "display_data"
    }
   ],
   "source": [
    "before = loudest_in_runs[0, :-1]\n",
    "after = loudest_in_runs[0, 1:]\n",
    "\n",
    "fig, ax = plt.subplots(1, 1)\n",
    "ax.hist2d(\n",
    "    np.asarray((before)),\n",
    "    np.asarray((after)),\n",
    "    bins=(12, 12),\n",
    "    range=((-0.5, 11.5), (-0.5, 11.5)),\n",
    "    cmap=\"Reds\",\n",
    ")\n",
    "ax.set_aspect(1)"
   ]
  },
  {
   "cell_type": "code",
   "execution_count": 109,
   "id": "elder-peace",
   "metadata": {},
   "outputs": [
    {
     "data": {
      "text/plain": [
       "<matplotlib.image.AxesImage at 0x7fdafe2ebc70>"
      ]
     },
     "execution_count": 109,
     "metadata": {},
     "output_type": "execute_result"
    },
    {
     "data": {
      "image/png": "[encoded data removed]",
      "text/plain": [
       "<Figure size 432x288 with 1 Axes>"
      ]
     },
     "metadata": {
      "needs_background": "light"
     },
     "output_type": "display_data"
    }
   ],
   "source": [
    "plt.imshow(np_intervals_per_song[0].reshape(12, 12), origin=\"lower\", cmap=\"Reds\")"
   ]
  },
  {
   "cell_type": "code",
   "execution_count": 110,
   "id": "accessible-lingerie",
   "metadata": {},
   "outputs": [],
   "source": [
    "import sklearn.cluster"
   ]
  },
  {
   "cell_type": "code",
   "execution_count": 218,
   "id": "muslim-proceeding",
   "metadata": {},
   "outputs": [
    {
     "data": {
      "image/png": "[encoded data removed]",
      "text/plain": [
       "<Figure size 432x288 with 1 Axes>"
      ]
     },
     "metadata": {
      "needs_background": "light"
     },
     "output_type": "display_data"
    },
    {
     "name": "stdout",
     "output_type": "stream",
     "text": [
      "0.04 William Shatner_ David Itkin_ The Arkansas Symphony Orchestra_ Paul Rowe: Exodus: Part I: Moses and Pharaoh\n",
      "0.05 The Association: Ron's Reverie: Across The Field / Carmen Ohio (Album Version)\n",
      "0.05 Sonny Rollins Quartet: Paul's Pal\n",
      "0.05 Howard Armstrong: My Four Reasons\n",
      "0.06 Osanna: Oro Caldo\n",
      "0.06 The Four Preps: The Big Draft Medley\n",
      "0.06 Kitty Margolis: Midnight Sun\n",
      "0.06 The Shadow Ring: Crystal Tears\n",
      "0.06 Aretha Franklin: RUNNIN' OUT OF FOOLS\n",
      "0.06 Chick Corea / Béla Fleck: Sunset Road\n"
     ]
    },
    {
     "data": {
      "image/png": "[encoded data removed]",
      "text/plain": [
       "<Figure size 432x288 with 1 Axes>"
      ]
     },
     "metadata": {
      "needs_background": "light"
     },
     "output_type": "display_data"
    },
    {
     "name": "stdout",
     "output_type": "stream",
     "text": [
      "0.06 Halle/Hughes: Valse Triste (Kuolema Op 44)\n",
      "0.06 Francis Dunnery: Too Much Saturn\n",
      "0.07 Earl Anderza: You'd Be So Nice To Come Home To (1998 Digital Remaster)\n",
      "0.07 Erskine Hawkins and His Orchestra: Let's Go Home\n",
      "0.07 Xavier Cugat: Amor_ Amor_ Amor\n",
      "0.07 Miguel Gallardo: Eternamente Amame\n",
      "0.07 Sebastian: Bear With Me\n",
      "0.07 The Corrs: Love Gives Love Takes ( LP Version )\n",
      "0.07 Stuff Smith: C Jam Blues\n",
      "0.07 Bud Powell: Embraceable You\n"
     ]
    },
    {
     "data": {
      "image/png": "[encoded data removed]",
      "text/plain": [
       "<Figure size 432x288 with 1 Axes>"
      ]
     },
     "metadata": {
      "needs_background": "light"
     },
     "output_type": "display_data"
    },
    {
     "name": "stdout",
     "output_type": "stream",
     "text": [
      "0.07 Olle Adolphson: Tatuerarevalsen (remaster '03)\n",
      "0.07 Lil Johnson: Love Thief\n",
      "0.08 Smartbomb: Complicate It\n",
      "0.08 Alejandro Sanz: Corazon Partio Club Mix Edit\n",
      "0.08 Chuck Loeb: New Life\n",
      "0.08 Los Rieleros Del Norte: Usted\n",
      "0.08 The Verve Pipe: Medicate Myself\n",
      "0.08 Camilo Sesto: Llueve Sobre Mojado\n",
      "0.08 Jam Hsiao: Green Door\n",
      "0.08 Gary Hobbs: The Look Of Love\n"
     ]
    },
    {
     "data": {
      "image/png": "[encoded data removed]",
      "text/plain": [
       "<Figure size 432x288 with 1 Axes>"
      ]
     },
     "metadata": {
      "needs_background": "light"
     },
     "output_type": "display_data"
    },
    {
     "name": "stdout",
     "output_type": "stream",
     "text": [
      "0.13 Public Image Ltd: (This Is Not A) Love Song (Live)\n",
      "0.14 Taras: I Will Love Again (JJ's Club Radio)\n",
      "0.17 Mike Shiver: Feelings\n",
      "0.17 Explicit Samouraï: X.plicit sentence\n",
      "0.2 Polygon Window: Quino-Phec\n",
      "0.26 Trees of mint: And so on...\n",
      "0.3 The Tyrant Lizard Kings: Delete All Alarms\n"
     ]
    },
    {
     "data": {
      "image/png": "[encoded data removed]",
      "text/plain": [
       "<Figure size 432x288 with 1 Axes>"
      ]
     },
     "metadata": {
      "needs_background": "light"
     },
     "output_type": "display_data"
    },
    {
     "name": "stdout",
     "output_type": "stream",
     "text": [
      "0.09 Maxi Priest: Groovin' In The Midnight\n",
      "0.1 Lady Sovereign: Bang Bang\n",
      "0.11 Aphex Twin: Come On You Slags\n",
      "0.11 Ec8or: Cocain Ducks\n",
      "0.12 Primal Scream: Pills\n",
      "0.13 Coldfeet: Shamefaced (Francois K Dub Mix)\n",
      "0.13 DJ X-Change featuring DJ Joey A: Come Over\n",
      "0.14 Tassilli Players: Interstellar Overdub\n",
      "0.14 Scenario Rock: Perfect Love Antidote BoBmo First Remix\n",
      "0.14 Nine Inch Nails: The Frail\n"
     ]
    },
    {
     "data": {
      "image/png": "[encoded data removed]",
      "text/plain": [
       "<Figure size 432x288 with 1 Axes>"
      ]
     },
     "metadata": {
      "needs_background": "light"
     },
     "output_type": "display_data"
    },
    {
     "name": "stdout",
     "output_type": "stream",
     "text": [
      "0.07 Faiz Ali Faiz: Sohna Nee Sohna Data\n",
      "0.08 The Berzerker: Deform (live)\n",
      "0.08 Flux of Pink Indians: Take Heed\n",
      "0.08 Lorena: Footloose\n",
      "0.08 The Babys: Love Is Just A Mystery\n",
      "0.08 Barbara McNair: The Shadow Of Your Smile\n",
      "0.08 Flor Silvestre: Caricia Y Herida\n",
      "0.09 Stretch Arm Strong: Pursuit Of Happiness\n",
      "0.09 Deadlock: We Shall All Bleed\n",
      "0.09 Rocola Bacalao: Jose Garbanzo\n"
     ]
    },
    {
     "data": {
      "image/png": "[encoded data removed]",
      "text/plain": [
       "<Figure size 432x288 with 1 Axes>"
      ]
     },
     "metadata": {
      "needs_background": "light"
     },
     "output_type": "display_data"
    },
    {
     "name": "stdout",
     "output_type": "stream",
     "text": [
      "0.08 Napalm Death: The World Keeps Turning\n",
      "0.08 Scred Connexion: Freestyle 35 (feat. Les Spécialistes)\n",
      "0.09 Chuck Loeb: The Music Inside\n",
      "0.09 Damien Dempsey: Industrial School\n",
      "0.09 Saratoga: Semillas de odio\n",
      "0.09 Hildegard Knef: Gestern hab' ich noch nachgedacht (Live)\n",
      "0.09 Organized Konfusion: Hate\n",
      "0.09 Blue Rodeo: Floating\n",
      "0.09 Lonnie Mack: Down In The Dumps  (LP Version)\n",
      "0.09 Van Halen: Panama (Remastered Album Version)\n"
     ]
    },
    {
     "data": {
      "image/png": "[encoded data removed]",
      "text/plain": [
       "<Figure size 432x288 with 1 Axes>"
      ]
     },
     "metadata": {
      "needs_background": "light"
     },
     "output_type": "display_data"
    },
    {
     "name": "stdout",
     "output_type": "stream",
     "text": [
      "0.09 Dru Down: Rock It Don't Stop It\n",
      "0.09 Borialis: Hourglass\n",
      "0.1 Riccardo Fogli: Sulla buona strada\n",
      "0.11 Jazz Addixx: Say Jazzy\n",
      "0.11 Massimo Volume: La Notte Dell'11 Ottobre\n",
      "0.12 Discofamily: It Just Won't Do\n",
      "0.13 Carl Cox Vs Yousef: I Want You (Forever)\n",
      "0.13 Kevin Gordon: Marina Takes Her Aim\n",
      "0.13 Top Billin: My Girl Wants\n",
      "0.14 Axel Karakasis: Hands In The Pocket\n"
     ]
    },
    {
     "data": {
      "image/png": "[encoded data removed]",
      "text/plain": [
       "<Figure size 432x288 with 1 Axes>"
      ]
     },
     "metadata": {
      "needs_background": "light"
     },
     "output_type": "display_data"
    },
    {
     "name": "stdout",
     "output_type": "stream",
     "text": [
      "0.07 Toby Lightman: One Day\n",
      "0.07 Bob Neuwirth: Biding Her Time\n",
      "0.08 Frank Reyes: Ya No Te Creo Nada\n",
      "0.08 Doctor Butcher: Freaks\n",
      "0.08 Merle Haggard And The Strangers: Folsom Prison Blues\n",
      "0.09 Chris Brashear: Little Home In Tennessee\n",
      "0.09 Solistiyhtye Suomi: Teräslintu\n",
      "0.09 Jeff And Sheri Easter: The Moon And I (Ordinary Day Album Version)\n",
      "0.09 Jacob Miller: Mixed Up Moods\n",
      "0.09 Rory Block: Three Is a Crowd\n"
     ]
    },
    {
     "data": {
      "image/png": "[encoded data removed]",
      "text/plain": [
       "<Figure size 432x288 with 1 Axes>"
      ]
     },
     "metadata": {
      "needs_background": "light"
     },
     "output_type": "display_data"
    },
    {
     "name": "stdout",
     "output_type": "stream",
     "text": [
      "0.06 DJ Dips: Gerra De De\n",
      "0.07 Jolin Tsai: Le Yuan (OT:They)\n",
      "0.08 Jacob Young: In A Subtle Way\n",
      "0.09 GNR: Toxicidade\n",
      "0.09 Charlie Feathers: Frankie & Johnny\n",
      "0.1 The B-52's: Wig\n",
      "0.1 Sofia Talvik: Arms and Armour\n",
      "0.1 Nick Cave & The Bad Seeds: She Fell Away (2009 Digital Remaster)\n",
      "0.11 Golden Boots: Buildings\n",
      "0.11 Terry Winchell: Crazy Some\n"
     ]
    },
    {
     "data": {
      "image/png": "[encoded data removed]",
      "text/plain": [
       "<Figure size 432x288 with 1 Axes>"
      ]
     },
     "metadata": {
      "needs_background": "light"
     },
     "output_type": "display_data"
    },
    {
     "name": "stdout",
     "output_type": "stream",
     "text": [
      "0.08 Med Flory: Bamboo\n",
      "0.09 Paul Johnson: Just Dance!\n",
      "0.1 The Devil Wears Prada: Danger: Wildman\n",
      "0.11 Keith Urban: Everybody\n",
      "0.11 Iwer George: Jump & Dunk\n",
      "0.11 Ghostface Killah: Assassination Day\n",
      "0.12 Foo Fighters: Hell\n",
      "0.12 Joy Lynn White: The Lucky Few\n",
      "0.12 Badly Drawn Boy: Tickets To What You Need\n",
      "0.12 The Weathermen: Let Them Come To Berlin\n"
     ]
    }
   ],
   "source": [
    "model = sklearn.cluster.AgglomerativeClustering(distance_threshold=0.75, n_clusters=None).fit(np_intervals_per_song)\n",
    "unique_labels = np.unique(model.labels_)\n",
    "\n",
    "centers = []\n",
    "for label in unique_labels:\n",
    "    centers.append(np.mean(np_intervals_per_song[model.labels_ == label], axis=0).reshape(12, 12))\n",
    "    \n",
    "for center, label in zip(centers, unique_labels):\n",
    "    plt.imshow(center, origin=\"lower\", cmap=\"Reds\")\n",
    "    plt.show()\n",
    "    distances = np.sqrt(np.sum((np_intervals_per_song[model.labels_ == label] - center.reshape(-1))**2, axis=1))\n",
    "    sorter = np.argsort(distances)\n",
    "    sorted_song_metadata = some_songs[model.labels_ == label, \"metadata\", [\"artist_name\", \"title\"]][sorter]\n",
    "    for artist_title, dist in zip(sorted_song_metadata[:10].tolist(), distances[sorter][:10]):\n",
    "        print(round(dist, 2), artist_title[\"artist_name\"] + \": \" + artist_title[\"title\"])"
   ]
  },
  {
   "cell_type": "code",
   "execution_count": 215,
   "id": "muslim-diamond",
   "metadata": {},
   "outputs": [
    {
     "data": {
      "text/plain": [
       "<matplotlib.image.AxesImage at 0x7fdafcad42b0>"
      ]
     },
     "execution_count": 215,
     "metadata": {},
     "output_type": "execute_result"
    },
    {
     "data": {
      "image/png": "[encoded data removed]",
      "text/plain": [
       "<Figure size 432x288 with 1 Axes>"
      ]
     },
     "metadata": {
      "needs_background": "light"
     },
     "output_type": "display_data"
    }
   ],
   "source": [
    "plt.imshow(np_intervals_per_song[some_songs.metadata.title == \"Just Dance!\"][0].reshape(12, 12), origin=\"lower\", cmap=\"Reds\")"
   ]
  },
  {
   "cell_type": "markdown",
   "id": "peripheral-puppy",
   "metadata": {},
   "source": [
    "# Scale-up"
   ]
  },
  {
   "cell_type": "code",
   "execution_count": null,
   "id": "polyphonic-style",
   "metadata": {},
   "outputs": [],
   "source": [
    "collect_intervals_per_song = []\n",
    "\n",
    "def doit(some_songs):\n",
    "    shift_for_song = key_shift[some_songs.analysis.key]\n",
    "    shifted_pitches = some_songs.analysis.segments.pitches[shift_for_song[:, np.newaxis]]\n",
    "    loudest_pitches = ak.argmax(shifted_pitches, axis=-1)\n",
    "    before = loudest_pitches[:, :-1]\n",
    "    after = loudest_pitches[:, 1:]\n",
    "    segment_new_loudest = ak.concatenate([True, before != after], axis=1)\n",
    "    segment_loudest_change = ak.local_index(shifted_pitches, axis=1)[segment_new_loudest]\n",
    "    run_length = segment_loudest_change[:, 1:] - segment_loudest_change[:, :-1]\n",
    "    last_run = ak.num(shifted_pitches) - ak.sum(run_length, axis=-1)\n",
    "    full_run_length = ak.concatenate([ak.fill_none(run_length, 0), last_run[:, np.newaxis]], axis=1)\n",
    "    grouped_by_same_loudest = ak.unflatten(ak.flatten(shifted_pitches), ak.flatten(full_run_length))\n",
    "    mean_in_each_group = ak.mean(grouped_by_same_loudest, axis=1)\n",
    "    pitches_in_runs = ak.unflatten(mean_in_each_group, ak.num(full_run_length))\n",
    "    loudest_in_runs = ak.argmax(pitches_in_runs, axis=-1)\n",
    "    interval_numbers = loudest_in_runs[:, :-1] + 12 * loudest_in_runs[:, 1:]\n",
    "    numbers_to_match = ak.Array(np.arange(144))[np.newaxis, np.newaxis, :]\n",
    "    intervals_per_song = ak.mean(interval_numbers == numbers_to_match, axis=1)\n",
    "    np_intervals_per_song = np.asarray(intervals_per_song)\n",
    "    collect_intervals_per_song.append(np_intervals_per_song)\n",
    "\n",
    "begin = time.time()\n",
    "for partnum, partition in enumerate(songs.layout.partitions):\n",
    "    doit(ak.Array(partition))\n",
    "    print(partnum, \"out of\", len(songs.layout.partitions), \"in\", time.time() - begin, \"seconds\")"
   ]
  }
 ],
 "metadata": {
  "kernelspec": {
   "display_name": "Python 3",
   "language": "python",
   "name": "python3"
  },
  "language_info": {
   "codemirror_mode": {
    "name": "ipython",
    "version": 3
   },
   "file_extension": ".py",
   "mimetype": "text/x-python",
   "name": "python",
   "nbconvert_exporter": "python",
   "pygments_lexer": "ipython3",
   "version": "3.8.6"
  }
 },
 "nbformat": 4,
 "nbformat_minor": 5
}
