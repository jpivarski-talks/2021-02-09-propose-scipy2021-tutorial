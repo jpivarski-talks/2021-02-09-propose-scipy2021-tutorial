{
 "cells": [
  {
   "cell_type": "code",
   "execution_count": 1,
   "id": "organized-geology",
   "metadata": {},
   "outputs": [],
   "source": [
    "import awkward as ak\n",
    "import numpy as np\n",
    "import matplotlib.pyplot as plt"
   ]
  },
  {
   "cell_type": "code",
   "execution_count": 2,
   "id": "faced-secretary",
   "metadata": {},
   "outputs": [],
   "source": [
    "songs = ak.from_parquet(\"/home/jpivarski/storage/million-song-dataset/data-zstd.parquet\", lazy=True)"
   ]
  },
  {
   "cell_type": "code",
   "execution_count": 3,
   "id": "female-three",
   "metadata": {},
   "outputs": [
    {
     "data": {
      "text/plain": [
       "<BarContainer object of 12 artists>"
      ]
     },
     "execution_count": 3,
     "metadata": {},
     "output_type": "execute_result"
    },
    {
     "data": {
      "image/png": "[encoded data removed]",
      "text/plain": [
       "<Figure size 432x288 with 1 Axes>"
      ]
     },
     "metadata": {
      "needs_background": "light"
     },
     "output_type": "display_data"
    }
   ],
   "source": [
    "plt.bar(range(12), ak.mean(ak.mean(songs.analysis.segments.pitches[(songs.analysis.key_confidence > 0.9) & (songs.analysis.mode_confidence > 0.9) & (songs.analysis.mode == 1)], axis=1), axis=0))"
   ]
  },
  {
   "cell_type": "code",
   "execution_count": 4,
   "id": "absent-vanilla",
   "metadata": {},
   "outputs": [],
   "source": [
    "key_shift = ak.Array([\n",
    "    [ 0,  1,  2,  3,  4,  5,  6,  7,  8,  9, 10, 11],\n",
    "    [ 1,  2,  3,  4,  5,  6,  7,  8,  9, 10, 11,  0],\n",
    "    [ 2,  3,  4,  5,  6,  7,  8,  9, 10, 11,  0,  1],\n",
    "    [ 3,  4,  5,  6,  7,  8,  9, 10, 11,  0,  1,  2],\n",
    "    [ 4,  5,  6,  7,  8,  9, 10, 11,  0,  1,  2,  3],\n",
    "    [ 5,  6,  7,  8,  9, 10, 11,  0,  1,  2,  3,  4],\n",
    "    [ 6,  7,  8,  9, 10, 11,  0,  1,  2,  3,  4,  5],\n",
    "    [ 7,  8,  9, 10, 11,  0,  1,  2,  3,  4,  5,  6],\n",
    "    [ 8,  9, 10, 11,  0,  1,  2,  3,  4,  5,  6,  7],\n",
    "    [ 9, 10, 11,  0,  1,  2,  3,  4,  5,  6,  7,  8],\n",
    "    [10, 11,  0,  1,  2,  3,  4,  5,  6,  7,  8,  9],\n",
    "    [11,  0,  1,  2,  3,  4,  5,  6,  7,  8,  9, 10],\n",
    "])"
   ]
  },
  {
   "cell_type": "code",
   "execution_count": 5,
   "id": "facial-timber",
   "metadata": {},
   "outputs": [],
   "source": [
    "shift_for_song = key_shift[songs.analysis.key]"
   ]
  },
  {
   "cell_type": "code",
   "execution_count": 6,
   "id": "curious-winter",
   "metadata": {},
   "outputs": [],
   "source": [
    "shifted_pitches = songs.analysis.segments.pitches[shift_for_song[:, np.newaxis]]"
   ]
  },
  {
   "cell_type": "code",
   "execution_count": 7,
   "id": "lucky-oxygen",
   "metadata": {},
   "outputs": [
    {
     "data": {
      "text/plain": [
       "<BarContainer object of 12 artists>"
      ]
     },
     "execution_count": 7,
     "metadata": {},
     "output_type": "execute_result"
    },
    {
     "data": {
      "image/png": "[encoded data removed]",
      "text/plain": [
       "<Figure size 432x288 with 1 Axes>"
      ]
     },
     "metadata": {
      "needs_background": "light"
     },
     "output_type": "display_data"
    }
   ],
   "source": [
    "plt.bar(range(12), ak.mean(ak.mean(shifted_pitches[(songs.analysis.key_confidence > 0.9) & (songs.analysis.mode_confidence > 0.9) & (songs.analysis.mode == 1)], axis=1), axis=0))"
   ]
  },
  {
   "cell_type": "code",
   "execution_count": 8,
   "id": "liked-interpretation",
   "metadata": {},
   "outputs": [],
   "source": [
    "loudest_pitches = ak.argmax(shifted_pitches, axis=-1)"
   ]
  },
  {
   "cell_type": "code",
   "execution_count": 63,
   "id": "identical-teaching",
   "metadata": {},
   "outputs": [
    {
     "data": {
      "image/png": "[encoded data removed]",
      "text/plain": [
       "<Figure size 432x288 with 1 Axes>"
      ]
     },
     "metadata": {
      "needs_background": "light"
     },
     "output_type": "display_data"
    }
   ],
   "source": [
    "plt.hist(ak.flatten(loudest_pitches[(songs.analysis.key_confidence > 0.2) & (songs.analysis.mode_confidence > 0.5) & (songs.analysis.mode == 1)]), bins=12, range=(-0.5, 11.5));"
   ]
  },
  {
   "cell_type": "code",
   "execution_count": 64,
   "id": "analyzed-dairy",
   "metadata": {},
   "outputs": [
    {
     "data": {
      "image/png": "[encoded data removed]",
      "text/plain": [
       "<Figure size 432x288 with 1 Axes>"
      ]
     },
     "metadata": {
      "needs_background": "light"
     },
     "output_type": "display_data"
    }
   ],
   "source": [
    "plt.hist(ak.flatten(loudest_pitches[(songs.analysis.key_confidence > 0.2) & (songs.analysis.mode_confidence > 0.5) & (songs.analysis.mode == 0)]), bins=12, range=(-0.5, 11.5));"
   ]
  },
  {
   "cell_type": "code",
   "execution_count": 92,
   "id": "governmental-participant",
   "metadata": {},
   "outputs": [
    {
     "data": {
      "image/png": "[encoded data removed]",
      "text/plain": [
       "<Figure size 432x288 with 1 Axes>"
      ]
     },
     "metadata": {
      "needs_background": "light"
     },
     "output_type": "display_data"
    }
   ],
   "source": [
    "before = loudest_pitches[:, :-10]\n",
    "after = loudest_pitches[:, 10:]\n",
    "\n",
    "fig, ax = plt.subplots(1, 1)\n",
    "ax.hist2d(\n",
    "    np.asarray(ak.flatten(before[(songs.analysis.key_confidence > 0.2)])),\n",
    "    np.asarray(ak.flatten(after[(songs.analysis.key_confidence > 0.2)])),\n",
    "    bins=(12, 12),\n",
    "    range=((-0.5, 11.5), (-0.5, 11.5)),\n",
    "    cmap=\"Reds\",\n",
    ")\n",
    "ax.set_aspect(1)"
   ]
  },
  {
   "cell_type": "code",
   "execution_count": 51,
   "id": "amber-origin",
   "metadata": {},
   "outputs": [
    {
     "data": {
      "text/plain": [
       "array(['rockabilly', 'pop rap', 'los angeles', 'british', 'urban',\n",
       "       'new york', 'fusion', 'grunge', 'world music', 'death metal',\n",
       "       'christian', 'progressive', 'cover', 'male', 'deep house', 'swing',\n",
       "       'chanson', 'gospel', 'psychedelic rock', 'lounge', 'smooth jazz',\n",
       "       'singer', 'industrial', 'california', '00s', 'trip hop',\n",
       "       'country rock', 'ska', 'emo', 'progressive rock', 'funk soul',\n",
       "       'piano', 'breakbeat', '60s', 'dance', 'female', 'trance', 'french',\n",
       "       'beautiful', '70s', 'psychedelic', 'classical', 'oldies', 'dub',\n",
       "       'new wave', 'soft rock', 'blues-rock', 'synthpop', 'chill-out',\n",
       "       'heavy metal', 'folk rock', '90s', 'techno', 'germany', 'r&b',\n",
       "       'electronica', 'female vocalist', 'ballad', 'hardcore', 'electro',\n",
       "       'easy listening', 'disco', '80s', 'indie rock', 'house',\n",
       "       'male vocalist', 'vocal', 'ambient', 'rap', 'downtempo',\n",
       "       'singer-songwriter', 'classic', 'reggae', 'hard rock', 'latin',\n",
       "       'metal', 'instrumental', 'experimental', 'world', 'soundtrack',\n",
       "       'acoustic', 'classic rock', 'funk', 'guitar', 'indie', 'punk',\n",
       "       'american', 'country', 'blues', 'pop rock', 'soul', 'alternative',\n",
       "       'folk', 'alternative rock', 'hip hop', 'united states', 'jazz',\n",
       "       'electronic', 'pop', 'rock'], dtype='<U33')"
      ]
     },
     "execution_count": 51,
     "metadata": {},
     "output_type": "execute_result"
    }
   ],
   "source": [
    "terms, counts = np.unique(np.asarray(ak.flatten(songs.metadata.artist_terms.term)), return_counts=True)\n",
    "terms[np.argsort(counts)][-100:]"
   ]
  },
  {
   "cell_type": "code",
   "execution_count": 27,
   "id": "international-condition",
   "metadata": {},
   "outputs": [
    {
     "data": {
      "text/plain": [
       "[{'artist_name': 'Gob', 'title': 'Face the Ashes'},\n",
       " {'artist_name': 'Tweeterfriendly Music', 'title': 'Drop of Rain'},\n",
       " {'artist_name': 'Blue Rodeo', 'title': 'Floating'},\n",
       " {'artist_name': 'Tesla', 'title': 'Caught In A Dream'},\n",
       " {'artist_name': 'The Dillinger Escape Plan',\n",
       "  'title': 'Setting Fire to Sleeping Giants'},\n",
       " {'artist_name': 'Five Bolt Main', 'title': 'Made Like This (Live)'},\n",
       " {'artist_name': 'The Shangri-Las', 'title': 'Twist and Shout'},\n",
       " {'artist_name': 'Butthole Surfers', 'title': 'Barking Dogs (From \"Piouhgd\")'},\n",
       " {'artist_name': \"Scarlet's Remains\", 'title': 'Spin'},\n",
       " {'artist_name': 'The Suicide Machines', 'title': 'Burning In The Aftermath'},\n",
       " {'artist_name': 'The New York Dolls', 'title': 'Human Being'},\n",
       " {'artist_name': 'The Germs', 'title': 'Forming'},\n",
       " {'artist_name': 'The Berzerker', 'title': 'Deform (live)'},\n",
       " {'artist_name': 'NOFX', 'title': 'Stickin In My Eye'},\n",
       " {'artist_name': 'Van Halen', 'title': 'Panama (Remastered Album Version)'},\n",
       " {'artist_name': 'Nine Inch Nails', 'title': 'Metal'},\n",
       " {'artist_name': 'Suburbs', 'title': 'Monde De Fou'},\n",
       " {'artist_name': 'Emperor', 'title': 'Opus a Satana (Part 2)'},\n",
       " {'artist_name': 'Organized Konfusion', 'title': 'Hate'},\n",
       " {'artist_name': 'Horace Andy', 'title': 'Thank You Lord'}]"
      ]
     },
     "execution_count": 27,
     "metadata": {},
     "output_type": "execute_result"
    }
   ],
   "source": [
    "is_metal = ak.any(songs.metadata.artist_terms.term == \"metal\", axis=-1)\n",
    "songs.metadata[is_metal, [\"artist_name\", \"title\"]][:20].tolist()"
   ]
  },
  {
   "cell_type": "code",
   "execution_count": 32,
   "id": "neither-beach",
   "metadata": {},
   "outputs": [
    {
     "data": {
      "text/plain": [
       "[{'artist_name': 'Daath', 'title': 'From The Blind (LP Version)'},\n",
       " {'artist_name': \"Satan's Host\", 'title': 'Metal from Hell...22nd Century'},\n",
       " {'artist_name': 'Muse', 'title': 'Bedroom Acoustics'},\n",
       " {'artist_name': \"Guns N' Roses\", 'title': 'Mama Kin'},\n",
       " {'artist_name': 'Daath', 'title': 'Above Lucium (LP Version)'},\n",
       " {'artist_name': 'Muse', 'title': 'Stockholm Syndrome'},\n",
       " {'artist_name': 'Muse', 'title': 'Exogenesis: Symphony Part 1 [Overture]'},\n",
       " {'artist_name': 'Mindless Self Indulgence',\n",
       "  'title': 'Never Wanted to Dance (Live In London)'},\n",
       " {'artist_name': 'Between The Buried And Me',\n",
       "  'title': 'Foam Born (A) The Backtrack (Album Version)'},\n",
       " {'artist_name': 'The Lord Weird Slough Feg', 'title': 'Beast In the Broch'},\n",
       " {'artist_name': 'Between The Buried And Me',\n",
       "  'title': 'Geek USA (Album Version)'},\n",
       " {'artist_name': \"Guns N' Roses\", 'title': 'Locomotive (Complicity)'},\n",
       " {'artist_name': 'D.O.W.N.', 'title': \"Hustlin'\"},\n",
       " {'artist_name': 'Bon Jovi', 'title': 'I Love This Town'},\n",
       " {'artist_name': 'Between The Buried And Me',\n",
       "  'title': 'Use Of A Weapon (Album Version)'},\n",
       " {'artist_name': 'D.O.W.N.', 'title': \"I Don't Give A F**K\"},\n",
       " {'artist_name': 'Omni', 'title': 'It Is What It Is (feat. Anton X)'},\n",
       " {'artist_name': 'Eluveitie', 'title': '(Do)Minion'},\n",
       " {'artist_name': 'Eluveitie', 'title': 'A Girls Oath'},\n",
       " {'artist_name': \"Satan's Host\", 'title': 'Infernal Calling'}]"
      ]
     },
     "execution_count": 32,
     "metadata": {},
     "output_type": "execute_result"
    }
   ],
   "source": [
    "is_metal = ak.sum(songs.metadata.artist_terms.weight[songs.metadata.artist_terms.term == \"metal\"], axis=-1)\n",
    "songs.metadata[is_metal > 0.8, [\"artist_name\", \"title\"]][:20].tolist()"
   ]
  },
  {
   "cell_type": "code",
   "execution_count": 74,
   "id": "japanese-nancy",
   "metadata": {},
   "outputs": [
    {
     "data": {
      "image/png": "[encoded data removed]",
      "text/plain": [
       "<Figure size 432x288 with 1 Axes>"
      ]
     },
     "metadata": {
      "needs_background": "light"
     },
     "output_type": "display_data"
    }
   ],
   "source": [
    "before = loudest_pitches[:, :-10]\n",
    "after = loudest_pitches[:, 10:]\n",
    "\n",
    "fig, ax = plt.subplots(1, 1)\n",
    "ax.hist2d(\n",
    "    np.asarray(ak.flatten(before[(songs.analysis.key_confidence > 0.2) & (is_metal > 0.8)])),\n",
    "    np.asarray(ak.flatten(after[(songs.analysis.key_confidence > 0.2) & (is_metal > 0.8)])),\n",
    "    bins=(12, 12),\n",
    "    range=((-0.5, 11.5), (-0.5, 11.5)),\n",
    "    cmap=\"Reds\",\n",
    ")\n",
    "ax.set_aspect(1)"
   ]
  },
  {
   "cell_type": "code",
   "execution_count": 34,
   "id": "developed-financing",
   "metadata": {},
   "outputs": [
    {
     "data": {
      "text/plain": [
       "[{'artist_name': 'Loudon Wainwright III', 'title': 'Human Cannonball'},\n",
       " {'artist_name': 'Glen Campbell', 'title': \"I'm Gone This Time\"},\n",
       " {'artist_name': 'Ellen McIlwaine', 'title': 'Spontanous Combustion'},\n",
       " {'artist_name': 'Hem', 'title': 'Have Yourself A Merry Little Christmas'},\n",
       " {'artist_name': 'Brian Keane', 'title': 'Battle Of The Rosebud / Cries'},\n",
       " {'artist_name': 'Carl Belew', 'title': \"Love's Been Good To Me\"},\n",
       " {'artist_name': 'Carlos Nuñez', 'title': 'Quiero Ir Ao Mar'},\n",
       " {'artist_name': 'Lisa Lynne', 'title': 'Isla del Luna'},\n",
       " {'artist_name': 'Lisa Lynne', 'title': 'Lake Of Dreams'},\n",
       " {'artist_name': 'Luar Na Lubre', 'title': 'Terra'},\n",
       " {'artist_name': 'Olov Johansson_ Catriona Mckay', 'title': 'Rain / Ekoln'},\n",
       " {'artist_name': 'Claire Hamill',\n",
       "  'title': \"If You'd Only Talk To Me (Bonus Track)\"},\n",
       " {'artist_name': 'Claire Hamill', 'title': 'To The Stars'},\n",
       " {'artist_name': 'Bröderna Djup', 'title': 'Råskevärsrock'},\n",
       " {'artist_name': 'Steve Riley & The Mamou Playboys',\n",
       "  'title': 'Between Eunice & Opelousas'},\n",
       " {'artist_name': 'Fever Ray', 'title': \"I'm Not Done\"},\n",
       " {'artist_name': 'Jerry Reed', 'title': \"When You're Hot_ You're Hot\"},\n",
       " {'artist_name': 'Pepe Kalle', 'title': 'Roger Milla (Stadium Mix)'},\n",
       " {'artist_name': 'Ty Herndon;Stephanie Bentley', 'title': 'Heart Half Empty'},\n",
       " {'artist_name': 'Mercedes Castro', 'title': 'El Cara Bonita'}]"
      ]
     },
     "execution_count": 34,
     "metadata": {},
     "output_type": "execute_result"
    }
   ],
   "source": [
    "is_folk = ak.sum(songs.metadata.artist_terms.weight[songs.metadata.artist_terms.term == \"folk\"], axis=-1)\n",
    "songs.metadata[is_folk > 0.8, [\"artist_name\", \"title\"]][:20].tolist()"
   ]
  },
  {
   "cell_type": "code",
   "execution_count": 75,
   "id": "alike-director",
   "metadata": {},
   "outputs": [
    {
     "data": {
      "image/png": "[encoded data removed]",
      "text/plain": [
       "<Figure size 432x288 with 1 Axes>"
      ]
     },
     "metadata": {
      "needs_background": "light"
     },
     "output_type": "display_data"
    }
   ],
   "source": [
    "before = loudest_pitches[:, :-10]\n",
    "after = loudest_pitches[:, 10:]\n",
    "\n",
    "fig, ax = plt.subplots(1, 1)\n",
    "ax.hist2d(\n",
    "    np.asarray(ak.flatten(before[(songs.analysis.key_confidence > 0.2) & (is_folk > 0.8)])),\n",
    "    np.asarray(ak.flatten(after[(songs.analysis.key_confidence > 0.2) & (is_folk > 0.8)])),\n",
    "    bins=(12, 12),\n",
    "    range=((-0.5, 11.5), (-0.5, 11.5)),\n",
    "    cmap=\"Reds\",\n",
    ")\n",
    "ax.set_aspect(1)"
   ]
  },
  {
   "cell_type": "code",
   "execution_count": 36,
   "id": "intense-ensemble",
   "metadata": {},
   "outputs": [
    {
     "data": {
      "text/plain": [
       "[{'artist_name': 'Gob', 'title': 'Face the Ashes'},\n",
       " {'artist_name': 'Wayne Watson', 'title': 'The Urgency (LP Version)'},\n",
       " {'artist_name': 'The Shangri-Las', 'title': 'Twist and Shout'},\n",
       " {'artist_name': 'Chris Rea', 'title': 'Driving Home For Christmas'},\n",
       " {'artist_name': 'Perrey And Kingsley', 'title': 'Spooks In Space'},\n",
       " {'artist_name': 'Black Eyed Peas', 'title': \"Let's Get It Started\"},\n",
       " {'artist_name': 'Julien Clerc', 'title': 'This Melody (Live)'},\n",
       " {'artist_name': 'Glen Campbell', 'title': \"I'm Gone This Time\"},\n",
       " {'artist_name': 'Savage Garden', 'title': 'You Can Still Be Free'},\n",
       " {'artist_name': 'Martina McBride', 'title': \"I Can't Stop Loving You\"},\n",
       " {'artist_name': 'Miguel Gallardo', 'title': 'Eternamente Amame'},\n",
       " {'artist_name': 'Eddie', 'title': 'No Control'},\n",
       " {'artist_name': 'Shelley Fabares', 'title': 'Johnny Loves Me (LP Version)'},\n",
       " {'artist_name': 'Norrie Paramor', 'title': 'Dearly Beloved'},\n",
       " {'artist_name': 'Brixx', 'title': '7 Miles'},\n",
       " {'artist_name': 'Heaven 17',\n",
       "  'title': \"(We Don't Need This) Fascist Groove Thang\"},\n",
       " {'artist_name': 'Soular', 'title': 'Everything Changes'},\n",
       " {'artist_name': 'Chris Brown', 'title': 'Forever'},\n",
       " {'artist_name': 'Lily Allen', 'title': 'U Killed It'},\n",
       " {'artist_name': 'Aberdeen', 'title': 'Beyond the Light'}]"
      ]
     },
     "execution_count": 36,
     "metadata": {},
     "output_type": "execute_result"
    }
   ],
   "source": [
    "is_pop = ak.sum(songs.metadata.artist_terms.weight[songs.metadata.artist_terms.term == \"pop\"], axis=-1)\n",
    "songs.metadata[is_pop > 0.8, [\"artist_name\", \"title\"]][:20].tolist()"
   ]
  },
  {
   "cell_type": "code",
   "execution_count": 76,
   "id": "sitting-willow",
   "metadata": {},
   "outputs": [
    {
     "data": {
      "image/png": "[encoded data removed]",
      "text/plain": [
       "<Figure size 432x288 with 1 Axes>"
      ]
     },
     "metadata": {
      "needs_background": "light"
     },
     "output_type": "display_data"
    }
   ],
   "source": [
    "before = loudest_pitches[:, :-10]\n",
    "after = loudest_pitches[:, 10:]\n",
    "\n",
    "fig, ax = plt.subplots(1, 1)\n",
    "ax.hist2d(\n",
    "    np.asarray(ak.flatten(before[(songs.analysis.key_confidence > 0.2) & (is_pop > 0.8)])),\n",
    "    np.asarray(ak.flatten(after[(songs.analysis.key_confidence > 0.2) & (is_pop > 0.8)])),\n",
    "    bins=(12, 12),\n",
    "    range=((-0.5, 11.5), (-0.5, 11.5)),\n",
    "    cmap=\"Reds\",\n",
    ")\n",
    "ax.set_aspect(1)"
   ]
  },
  {
   "cell_type": "code",
   "execution_count": 38,
   "id": "combined-carter",
   "metadata": {},
   "outputs": [
    {
     "data": {
      "text/plain": [
       "[{'artist_name': 'Adam Ant', 'title': 'Something Girls'},\n",
       " {'artist_name': 'Gob', 'title': 'Face the Ashes'},\n",
       " {'artist_name': 'Planet P Project', 'title': 'Pink World'},\n",
       " {'artist_name': 'JennyAnyKind', 'title': 'Young Boy Blues'},\n",
       " {'artist_name': 'Tesla', 'title': 'Caught In A Dream'},\n",
       " {'artist_name': 'SUE THOMPSON', 'title': 'James (Hold The Ladder Steady)'},\n",
       " {'artist_name': 'The Shangri-Las', 'title': 'Twist and Shout'},\n",
       " {'artist_name': \"Scarlet's Remains\", 'title': 'Spin'},\n",
       " {'artist_name': 'The Rolling Stones',\n",
       "  'title': 'Angie (1993 Digital Remaster)'},\n",
       " {'artist_name': 'R.L. Burnside', 'title': 'Glory Be'},\n",
       " {'artist_name': 'John Hammond', 'title': \"I Can't Be Satisfied\"},\n",
       " {'artist_name': 'Casiotone For The Painfully Alone',\n",
       "  'title': 'Nashville Parthenon'},\n",
       " {'artist_name': 'The New York Dolls', 'title': 'Human Being'},\n",
       " {'artist_name': 'The Germs', 'title': 'Forming'},\n",
       " {'artist_name': 'Chris Rea', 'title': 'Driving Home For Christmas'},\n",
       " {'artist_name': 'Eurythmics', 'title': 'Tous Les Garçons Et Les Filles'},\n",
       " {'artist_name': 'Francis Dunnery', 'title': 'Too Much Saturn'},\n",
       " {'artist_name': 'The Berzerker', 'title': 'Deform (live)'},\n",
       " {'artist_name': 'NOFX', 'title': 'Stickin In My Eye'},\n",
       " {'artist_name': 'Soda Stereo', 'title': 'Entre Caníbales'}]"
      ]
     },
     "execution_count": 38,
     "metadata": {},
     "output_type": "execute_result"
    }
   ],
   "source": [
    "is_rock = ak.sum(songs.metadata.artist_terms.weight[songs.metadata.artist_terms.term == \"rock\"], axis=-1)\n",
    "songs.metadata[is_rock > 0.8, [\"artist_name\", \"title\"]][:20].tolist()"
   ]
  },
  {
   "cell_type": "code",
   "execution_count": 77,
   "id": "speaking-tooth",
   "metadata": {},
   "outputs": [
    {
     "data": {
      "image/png": "[encoded data removed]",
      "text/plain": [
       "<Figure size 432x288 with 1 Axes>"
      ]
     },
     "metadata": {
      "needs_background": "light"
     },
     "output_type": "display_data"
    }
   ],
   "source": [
    "before = loudest_pitches[:, :-10]\n",
    "after = loudest_pitches[:, 10:]\n",
    "\n",
    "fig, ax = plt.subplots(1, 1)\n",
    "ax.hist2d(\n",
    "    np.asarray(ak.flatten(before[(songs.analysis.key_confidence > 0.2) & (is_rock > 0.8)])),\n",
    "    np.asarray(ak.flatten(after[(songs.analysis.key_confidence > 0.2) & (is_rock > 0.8)])),\n",
    "    bins=(12, 12),\n",
    "    range=((-0.5, 11.5), (-0.5, 11.5)),\n",
    "    cmap=\"Reds\",\n",
    ")\n",
    "ax.set_aspect(1)"
   ]
  },
  {
   "cell_type": "code",
   "execution_count": 40,
   "id": "paperback-chester",
   "metadata": {},
   "outputs": [
    {
     "data": {
      "text/plain": [
       "[{'artist_name': 'Bob Azzam', 'title': 'Auguri Cha Cha'},\n",
       " {'artist_name': 'Richard Souther', 'title': 'High Tide'},\n",
       " {'artist_name': 'Elena', 'title': 'Setanta matins'},\n",
       " {'artist_name': 'Willie Bobo', 'title': 'Spanish Grease'},\n",
       " {'artist_name': 'Terry Callier', 'title': 'Do You Finally Need A Friend'},\n",
       " {'artist_name': 'Jacob Young', 'title': 'In A Subtle Way'},\n",
       " {'artist_name': 'John Hammond', 'title': \"I Can't Be Satisfied\"},\n",
       " {'artist_name': 'Eliane Elias', 'title': 'The More I See You'},\n",
       " {'artist_name': 'Perrey And Kingsley', 'title': 'Spooks In Space'},\n",
       " {'artist_name': 'Glen Campbell', 'title': \"I'm Gone This Time\"},\n",
       " {'artist_name': 'Kai Winding', 'title': 'Mangos'},\n",
       " {'artist_name': 'Sonny Simmons', 'title': 'A Distant Voice'},\n",
       " {'artist_name': 'Ellen McIlwaine', 'title': 'Spontanous Combustion'},\n",
       " {'artist_name': 'Vince Guaraldi / Bola Sete', 'title': 'Choro'},\n",
       " {'artist_name': 'Maurice Chevalier', 'title': 'Ma Louise'},\n",
       " {'artist_name': 'Richard Burton', 'title': 'I See The Boys Of Summer'},\n",
       " {'artist_name': 'Donny Hathaway', 'title': 'Little Girl (LP Version)'},\n",
       " {'artist_name': 'Les Ogres De Barback', 'title': 'Niev nietch nievitch'},\n",
       " {'artist_name': 'Robben Ford', 'title': 'I Got Over It (Album Version)'},\n",
       " {'artist_name': 'Perrey And Kingsley', 'title': 'Gossippo Perpetuo'}]"
      ]
     },
     "execution_count": 40,
     "metadata": {},
     "output_type": "execute_result"
    }
   ],
   "source": [
    "is_jazz = ak.sum(songs.metadata.artist_terms.weight[songs.metadata.artist_terms.term == \"jazz\"], axis=-1)\n",
    "songs.metadata[is_jazz > 0.8, [\"artist_name\", \"title\"]][:20].tolist()"
   ]
  },
  {
   "cell_type": "code",
   "execution_count": 78,
   "id": "meaning-armor",
   "metadata": {},
   "outputs": [
    {
     "data": {
      "image/png": "[encoded data removed]",
      "text/plain": [
       "<Figure size 432x288 with 1 Axes>"
      ]
     },
     "metadata": {
      "needs_background": "light"
     },
     "output_type": "display_data"
    }
   ],
   "source": [
    "before = loudest_pitches[:, :-10]\n",
    "after = loudest_pitches[:, 10:]\n",
    "\n",
    "fig, ax = plt.subplots(1, 1)\n",
    "ax.hist2d(\n",
    "    np.asarray(ak.flatten(before[(songs.analysis.key_confidence > 0.2) & (is_jazz > 0.8)])),\n",
    "    np.asarray(ak.flatten(after[(songs.analysis.key_confidence > 0.2) & (is_jazz > 0.8)])),\n",
    "    bins=(12, 12),\n",
    "    range=((-0.5, 11.5), (-0.5, 11.5)),\n",
    "    cmap=\"Reds\",\n",
    ")\n",
    "ax.set_aspect(1)"
   ]
  },
  {
   "cell_type": "code",
   "execution_count": 42,
   "id": "married-waste",
   "metadata": {},
   "outputs": [
    {
     "data": {
      "text/plain": [
       "[{'artist_name': 'Glen Campbell', 'title': \"I'm Gone This Time\"},\n",
       " {'artist_name': 'Ellen McIlwaine', 'title': 'Spontanous Combustion'},\n",
       " {'artist_name': 'Brian Keane', 'title': 'Battle Of The Rosebud / Cries'},\n",
       " {'artist_name': 'Carl Belew', 'title': \"Love's Been Good To Me\"},\n",
       " {'artist_name': 'Carlos Nuñez', 'title': 'Quiero Ir Ao Mar'},\n",
       " {'artist_name': 'Java', 'title': \"Don't Phunk With My Heart\"},\n",
       " {'artist_name': 'Luar Na Lubre', 'title': 'Terra'},\n",
       " {'artist_name': 'Olov Johansson_ Catriona Mckay', 'title': 'Rain / Ekoln'},\n",
       " {'artist_name': 'Claire Hamill',\n",
       "  'title': \"If You'd Only Talk To Me (Bonus Track)\"},\n",
       " {'artist_name': 'Andy Russell', 'title': 'I Love You And You Love Me'},\n",
       " {'artist_name': 'Claire Hamill', 'title': 'To The Stars'},\n",
       " {'artist_name': 'Jerry Reed', 'title': \"When You're Hot_ You're Hot\"},\n",
       " {'artist_name': 'Pepe Kalle', 'title': 'Roger Milla (Stadium Mix)'},\n",
       " {'artist_name': 'Chango Spasiuk', 'title': 'De Bombacha Y Alpargatas'},\n",
       " {'artist_name': 'Ty Herndon;Stephanie Bentley', 'title': 'Heart Half Empty'},\n",
       " {'artist_name': 'Carlos Nuñez', 'title': 'A Costa De Galicia'},\n",
       " {'artist_name': 'Hevia', 'title': 'San Xuan'},\n",
       " {'artist_name': 'Mikey Dread',\n",
       "  'title': 'Two Track Dub (Dub / Instrumental Reggae Music)'},\n",
       " {'artist_name': 'Marty Robbins', 'title': 'Have Thine Own Way Lord'},\n",
       " {'artist_name': 'Andre Verchuren', 'title': 'Tra-La-La Musette'}]"
      ]
     },
     "execution_count": 42,
     "metadata": {},
     "output_type": "execute_result"
    }
   ],
   "source": [
    "is_world = ak.sum(songs.metadata.artist_terms.weight[songs.metadata.artist_terms.term == \"world\"], axis=-1)\n",
    "songs.metadata[is_world > 0.8, [\"artist_name\", \"title\"]][:20].tolist()"
   ]
  },
  {
   "cell_type": "code",
   "execution_count": 79,
   "id": "dense-batman",
   "metadata": {},
   "outputs": [
    {
     "data": {
      "image/png": "[encoded data removed]",
      "text/plain": [
       "<Figure size 432x288 with 1 Axes>"
      ]
     },
     "metadata": {
      "needs_background": "light"
     },
     "output_type": "display_data"
    }
   ],
   "source": [
    "before = loudest_pitches[:, :-10]\n",
    "after = loudest_pitches[:, 10:]\n",
    "\n",
    "fig, ax = plt.subplots(1, 1)\n",
    "ax.hist2d(\n",
    "    np.asarray(ak.flatten(before[(songs.analysis.key_confidence > 0.2) & (is_world > 0.8)])),\n",
    "    np.asarray(ak.flatten(after[(songs.analysis.key_confidence > 0.2) & (is_world > 0.8)])),\n",
    "    bins=(12, 12),\n",
    "    range=((-0.5, 11.5), (-0.5, 11.5)),\n",
    "    cmap=\"Reds\",\n",
    ")\n",
    "ax.set_aspect(1)"
   ]
  },
  {
   "cell_type": "code",
   "execution_count": 44,
   "id": "statistical-administrator",
   "metadata": {},
   "outputs": [
    {
     "data": {
      "text/plain": [
       "[{'artist_name': 'Jimmy Wakely', 'title': 'Broken-Down Merry-Go-Round'},\n",
       " {'artist_name': 'Alice Stuart', 'title': 'Kassie Jones'},\n",
       " {'artist_name': 'Faye Adams', 'title': 'Crazy Mixed Up World'},\n",
       " {'artist_name': 'Terry Callier', 'title': 'Do You Finally Need A Friend'},\n",
       " {'artist_name': 'The Shangri-Las', 'title': 'Twist and Shout'},\n",
       " {'artist_name': 'The Rolling Stones',\n",
       "  'title': 'Angie (1993 Digital Remaster)'},\n",
       " {'artist_name': 'R.L. Burnside', 'title': 'Glory Be'},\n",
       " {'artist_name': 'Stevie Ray Vaughan', 'title': 'Crossfire'},\n",
       " {'artist_name': 'John Hammond', 'title': \"I Can't Be Satisfied\"},\n",
       " {'artist_name': 'Chris Rea', 'title': 'Driving Home For Christmas'},\n",
       " {'artist_name': 'Glen Campbell', 'title': \"I'm Gone This Time\"},\n",
       " {'artist_name': 'Ellen McIlwaine', 'title': 'Spontanous Combustion'},\n",
       " {'artist_name': 'Organized Konfusion', 'title': 'Hate'},\n",
       " {'artist_name': 'Tyrone Davis', 'title': \"Cheatin' In The Next Room\"},\n",
       " {'artist_name': 'Hot Tuna', 'title': 'Candy Man'},\n",
       " {'artist_name': 'Rory Block', 'title': 'Three Is a Crowd'},\n",
       " {'artist_name': 'Howard Armstrong', 'title': 'My Four Reasons'},\n",
       " {'artist_name': 'Donny Hathaway', 'title': 'Little Girl (LP Version)'},\n",
       " {'artist_name': 'Tony Joe White',\n",
       "  'title': 'I Want Love (Tween You & Me) (Album Version)'},\n",
       " {'artist_name': 'Bob Margolin', 'title': 'You Rascal You'}]"
      ]
     },
     "execution_count": 44,
     "metadata": {},
     "output_type": "execute_result"
    }
   ],
   "source": [
    "is_blues = ak.sum(songs.metadata.artist_terms.weight[songs.metadata.artist_terms.term == \"blues\"], axis=-1)\n",
    "songs.metadata[is_blues > 0.8, [\"artist_name\", \"title\"]][:20].tolist()"
   ]
  },
  {
   "cell_type": "code",
   "execution_count": 80,
   "id": "nonprofit-inspector",
   "metadata": {},
   "outputs": [
    {
     "data": {
      "image/png": "[encoded data removed]",
      "text/plain": [
       "<Figure size 432x288 with 1 Axes>"
      ]
     },
     "metadata": {
      "needs_background": "light"
     },
     "output_type": "display_data"
    }
   ],
   "source": [
    "before = loudest_pitches[:, :-10]\n",
    "after = loudest_pitches[:, 10:]\n",
    "\n",
    "fig, ax = plt.subplots(1, 1)\n",
    "ax.hist2d(\n",
    "    np.asarray(ak.flatten(before[(songs.analysis.key_confidence > 0.2) & (is_blues > 0.8)])),\n",
    "    np.asarray(ak.flatten(after[(songs.analysis.key_confidence > 0.2) & (is_blues > 0.8)])),\n",
    "    bins=(12, 12),\n",
    "    range=((-0.5, 11.5), (-0.5, 11.5)),\n",
    "    cmap=\"Reds\",\n",
    ")\n",
    "ax.set_aspect(1)"
   ]
  },
  {
   "cell_type": "code",
   "execution_count": 46,
   "id": "political-assist",
   "metadata": {},
   "outputs": [
    {
     "data": {
      "text/plain": [
       "<Array [[[6, 4, 1, 0, 5, ... 11, 2, 7, 5, 10]]] type='10000 * var * var * int64'>"
      ]
     },
     "execution_count": 46,
     "metadata": {},
     "output_type": "execute_result"
    }
   ],
   "source": [
    "sorted_pitches = ak.argsort(shifted_pitches, axis=-1)\n",
    "sorted_pitches"
   ]
  },
  {
   "cell_type": "code",
   "execution_count": 89,
   "id": "coordinated-ultimate",
   "metadata": {},
   "outputs": [
    {
     "data": {
      "image/png": "[encoded data removed]",
      "text/plain": [
       "<Figure size 432x288 with 1 Axes>"
      ]
     },
     "metadata": {
      "needs_background": "light"
     },
     "output_type": "display_data"
    }
   ],
   "source": [
    "second_loudest = sorted_pitches[:, :, -2]\n",
    "first_loudest = sorted_pitches[:, :, -1]\n",
    "\n",
    "fig, ax = plt.subplots(1, 1)\n",
    "ax.hist2d(\n",
    "    np.asarray(ak.flatten(first_loudest[(songs.analysis.key_confidence > 0.2)])),\n",
    "    np.asarray(ak.flatten(second_loudest[(songs.analysis.key_confidence > 0.2)])),\n",
    "    bins=(12, 12),\n",
    "    range=((-0.5, 11.5), (-0.5, 11.5)),\n",
    "    cmap=\"Reds\",\n",
    ");\n",
    "ax.set_aspect(1)"
   ]
  },
  {
   "cell_type": "code",
   "execution_count": 81,
   "id": "latest-boutique",
   "metadata": {},
   "outputs": [
    {
     "data": {
      "image/png": "[encoded data removed]",
      "text/plain": [
       "<Figure size 432x288 with 1 Axes>"
      ]
     },
     "metadata": {
      "needs_background": "light"
     },
     "output_type": "display_data"
    }
   ],
   "source": [
    "second_loudest = sorted_pitches[:, :, -2]\n",
    "first_loudest = sorted_pitches[:, :, -1]\n",
    "\n",
    "fig, ax = plt.subplots(1, 1)\n",
    "ax.hist2d(\n",
    "    np.asarray(ak.flatten(first_loudest[(songs.analysis.key_confidence > 0.2) & (is_metal > 0.8)])),\n",
    "    np.asarray(ak.flatten(second_loudest[(songs.analysis.key_confidence > 0.2) & (is_metal > 0.8)])),\n",
    "    bins=(12, 12),\n",
    "    range=((-0.5, 11.5), (-0.5, 11.5)),\n",
    "    cmap=\"Reds\",\n",
    ");\n",
    "ax.set_aspect(1)"
   ]
  },
  {
   "cell_type": "code",
   "execution_count": 82,
   "id": "received-verification",
   "metadata": {},
   "outputs": [
    {
     "data": {
      "image/png": "[encoded data removed]",
      "text/plain": [
       "<Figure size 432x288 with 1 Axes>"
      ]
     },
     "metadata": {
      "needs_background": "light"
     },
     "output_type": "display_data"
    }
   ],
   "source": [
    "second_loudest = sorted_pitches[:, :, -2]\n",
    "first_loudest = sorted_pitches[:, :, -1]\n",
    "\n",
    "fig, ax = plt.subplots(1, 1)\n",
    "ax.hist2d(\n",
    "    np.asarray(ak.flatten(first_loudest[(songs.analysis.key_confidence > 0.2) & (is_folk > 0.8)])),\n",
    "    np.asarray(ak.flatten(second_loudest[(songs.analysis.key_confidence > 0.2) & (is_folk > 0.8)])),\n",
    "    bins=(12, 12),\n",
    "    range=((-0.5, 11.5), (-0.5, 11.5)),\n",
    "    cmap=\"Reds\",\n",
    ");\n",
    "ax.set_aspect(1)"
   ]
  },
  {
   "cell_type": "code",
   "execution_count": 83,
   "id": "recovered-potato",
   "metadata": {},
   "outputs": [
    {
     "data": {
      "image/png": "[encoded data removed]",
      "text/plain": [
       "<Figure size 432x288 with 1 Axes>"
      ]
     },
     "metadata": {
      "needs_background": "light"
     },
     "output_type": "display_data"
    }
   ],
   "source": [
    "second_loudest = sorted_pitches[:, :, -2]\n",
    "first_loudest = sorted_pitches[:, :, -1]\n",
    "\n",
    "fig, ax = plt.subplots(1, 1)\n",
    "ax.hist2d(\n",
    "    np.asarray(ak.flatten(first_loudest[(songs.analysis.key_confidence > 0.2) & (is_pop > 0.8)])),\n",
    "    np.asarray(ak.flatten(second_loudest[(songs.analysis.key_confidence > 0.2) & (is_pop > 0.8)])),\n",
    "    bins=(12, 12),\n",
    "    range=((-0.5, 11.5), (-0.5, 11.5)),\n",
    "    cmap=\"Reds\",\n",
    ");\n",
    "ax.set_aspect(1)"
   ]
  },
  {
   "cell_type": "code",
   "execution_count": 84,
   "id": "imposed-importance",
   "metadata": {},
   "outputs": [
    {
     "data": {
      "image/png": "[encoded data removed]",
      "text/plain": [
       "<Figure size 432x288 with 1 Axes>"
      ]
     },
     "metadata": {
      "needs_background": "light"
     },
     "output_type": "display_data"
    }
   ],
   "source": [
    "second_loudest = sorted_pitches[:, :, -2]\n",
    "first_loudest = sorted_pitches[:, :, -1]\n",
    "\n",
    "fig, ax = plt.subplots(1, 1)\n",
    "ax.hist2d(\n",
    "    np.asarray(ak.flatten(first_loudest[(songs.analysis.key_confidence > 0.2) & (is_rock > 0.8)])),\n",
    "    np.asarray(ak.flatten(second_loudest[(songs.analysis.key_confidence > 0.2) & (is_rock > 0.8)])),\n",
    "    bins=(12, 12),\n",
    "    range=((-0.5, 11.5), (-0.5, 11.5)),\n",
    "    cmap=\"Reds\",\n",
    ");\n",
    "ax.set_aspect(1)"
   ]
  },
  {
   "cell_type": "code",
   "execution_count": 85,
   "id": "human-window",
   "metadata": {},
   "outputs": [
    {
     "data": {
      "image/png": "[encoded data removed]",
      "text/plain": [
       "<Figure size 432x288 with 1 Axes>"
      ]
     },
     "metadata": {
      "needs_background": "light"
     },
     "output_type": "display_data"
    }
   ],
   "source": [
    "second_loudest = sorted_pitches[:, :, -2]\n",
    "first_loudest = sorted_pitches[:, :, -1]\n",
    "\n",
    "fig, ax = plt.subplots(1, 1)\n",
    "ax.hist2d(\n",
    "    np.asarray(ak.flatten(first_loudest[(songs.analysis.key_confidence > 0.2) & (is_jazz > 0.8)])),\n",
    "    np.asarray(ak.flatten(second_loudest[(songs.analysis.key_confidence > 0.2) & (is_jazz > 0.8)])),\n",
    "    bins=(12, 12),\n",
    "    range=((-0.5, 11.5), (-0.5, 11.5)),\n",
    "    cmap=\"Reds\",\n",
    ");\n",
    "ax.set_aspect(1)"
   ]
  },
  {
   "cell_type": "code",
   "execution_count": 86,
   "id": "complicated-million",
   "metadata": {},
   "outputs": [
    {
     "data": {
      "image/png": "[encoded data removed]",
      "text/plain": [
       "<Figure size 432x288 with 1 Axes>"
      ]
     },
     "metadata": {
      "needs_background": "light"
     },
     "output_type": "display_data"
    }
   ],
   "source": [
    "second_loudest = sorted_pitches[:, :, -2]\n",
    "first_loudest = sorted_pitches[:, :, -1]\n",
    "\n",
    "fig, ax = plt.subplots(1, 1)\n",
    "ax.hist2d(\n",
    "    np.asarray(ak.flatten(first_loudest[(songs.analysis.key_confidence > 0.2) & (is_blues > 0.8)])),\n",
    "    np.asarray(ak.flatten(second_loudest[(songs.analysis.key_confidence > 0.2) & (is_blues > 0.8)])),\n",
    "    bins=(12, 12),\n",
    "    range=((-0.5, 11.5), (-0.5, 11.5)),\n",
    "    cmap=\"Reds\",\n",
    ");\n",
    "ax.set_aspect(1)"
   ]
  },
  {
   "cell_type": "code",
   "execution_count": 87,
   "id": "twenty-benefit",
   "metadata": {},
   "outputs": [
    {
     "data": {
      "image/png": "[encoded data removed]",
      "text/plain": [
       "<Figure size 432x288 with 1 Axes>"
      ]
     },
     "metadata": {
      "needs_background": "light"
     },
     "output_type": "display_data"
    }
   ],
   "source": [
    "second_loudest = sorted_pitches[:, :, -2]\n",
    "first_loudest = sorted_pitches[:, :, -1]\n",
    "\n",
    "fig, ax = plt.subplots(1, 1)\n",
    "ax.hist2d(\n",
    "    np.asarray(ak.flatten(first_loudest[(songs.analysis.key_confidence > 0.2) & (is_world > 0.8)])),\n",
    "    np.asarray(ak.flatten(second_loudest[(songs.analysis.key_confidence > 0.2) & (is_world > 0.8)])),\n",
    "    bins=(12, 12),\n",
    "    range=((-0.5, 11.5), (-0.5, 11.5)),\n",
    "    cmap=\"Reds\",\n",
    ");\n",
    "ax.set_aspect(1)"
   ]
  },
  {
   "cell_type": "code",
   "execution_count": 96,
   "id": "unlimited-publisher",
   "metadata": {},
   "outputs": [],
   "source": [
    "ionian     = ak.Array([True, False, True, False, True, True, False, True, False, True, False, True])\n",
    "dorian     = ak.Array([True, False, True, True, False, True, False, True, False, True, True, False])\n",
    "phrygian   = ak.Array([True, True, False, True, False, True, False, True, True, False, True, False])\n",
    "lydian     = ak.Array([True, False, True, False, True, False, True, True, False, True, False, True])\n",
    "mixolydian = ak.Array([True, False, True, False, True, True, False, True, False, True, True, False])\n",
    "aeolian    = ak.Array([True, False, True, True, False, True, False, True, True, False, True, False])\n",
    "locrian    = ak.Array([True, True, False, True, False, True, True, False, True, False, True, False])"
   ]
  },
  {
   "cell_type": "code",
   "execution_count": 133,
   "id": "understanding-lighter",
   "metadata": {},
   "outputs": [
    {
     "name": "stdout",
     "output_type": "stream",
     "text": [
      "ionian     [ 0  2  4  5  7  9 11]\n",
      "dorian     [ 0  2  3  5  7  9 10]\n",
      "phrygian   [ 0  1  3  5  7  8 10]\n",
      "lydian     [ 0  2  4  6  7  9 11]\n",
      "mixolydian [ 0  2  4  5  7  9 10]\n",
      "aeolian    [ 0  2  3  5  7  8 10]\n",
      "locrian    [ 0  1  3  5  6  8 10]\n"
     ]
    }
   ],
   "source": [
    "print(\"ionian    \", np.nonzero(np.asarray(ionian))[0])\n",
    "print(\"dorian    \", np.nonzero(np.asarray(dorian))[0])\n",
    "print(\"phrygian  \", np.nonzero(np.asarray(phrygian))[0])\n",
    "print(\"lydian    \", np.nonzero(np.asarray(lydian))[0])\n",
    "print(\"mixolydian\", np.nonzero(np.asarray(mixolydian))[0])\n",
    "print(\"aeolian   \", np.nonzero(np.asarray(aeolian))[0])\n",
    "print(\"locrian   \", np.nonzero(np.asarray(locrian))[0])"
   ]
  },
  {
   "cell_type": "code",
   "execution_count": 161,
   "id": "danish-divide",
   "metadata": {},
   "outputs": [],
   "source": [
    "is_major = (songs.analysis.key_confidence > 0.2) & (songs.analysis.mode_confidence > 0.5) & (songs.analysis.mode == 1)\n",
    "is_minor = (songs.analysis.key_confidence > 0.2) & (songs.analysis.mode_confidence > 0.5) & (songs.analysis.mode == 0)"
   ]
  },
  {
   "cell_type": "code",
   "execution_count": 167,
   "id": "closed-consolidation",
   "metadata": {},
   "outputs": [
    {
     "data": {
      "image/png": "[encoded data removed]",
      "text/plain": [
       "<Figure size 432x288 with 1 Axes>"
      ]
     },
     "metadata": {
      "needs_background": "light"
     },
     "output_type": "display_data"
    }
   ],
   "source": [
    "plt.hist(ak.mean(ak.mean(shifted_pitches[:, :, ionian], axis=-1) > ak.mean(shifted_pitches[:, :, ~ionian], axis=-1), axis=-1)[is_major], bins=100, range=(0, 1));"
   ]
  },
  {
   "cell_type": "code",
   "execution_count": 168,
   "id": "positive-desperate",
   "metadata": {},
   "outputs": [
    {
     "data": {
      "image/png": "[encoded data removed]",
      "text/plain": [
       "<Figure size 432x288 with 1 Axes>"
      ]
     },
     "metadata": {
      "needs_background": "light"
     },
     "output_type": "display_data"
    }
   ],
   "source": [
    "plt.hist(ak.mean(ak.mean(shifted_pitches[:, :, ionian], axis=-1) > ak.mean(shifted_pitches[:, :, ~ionian], axis=-1), axis=-1)[is_minor], bins=100, range=(0, 1));"
   ]
  },
  {
   "cell_type": "code",
   "execution_count": 169,
   "id": "final-citation",
   "metadata": {},
   "outputs": [
    {
     "data": {
      "image/png": "[encoded data removed]",
      "text/plain": [
       "<Figure size 432x288 with 1 Axes>"
      ]
     },
     "metadata": {
      "needs_background": "light"
     },
     "output_type": "display_data"
    }
   ],
   "source": [
    "plt.hist(ak.mean(ak.mean(shifted_pitches[:, :, aeolian], axis=-1) > ak.mean(shifted_pitches[:, :, ~aeolian], axis=-1), axis=-1)[is_major], bins=100, range=(0, 1));"
   ]
  },
  {
   "cell_type": "code",
   "execution_count": 170,
   "id": "animal-steps",
   "metadata": {},
   "outputs": [
    {
     "data": {
      "image/png": "[encoded data removed]",
      "text/plain": [
       "<Figure size 432x288 with 1 Axes>"
      ]
     },
     "metadata": {
      "needs_background": "light"
     },
     "output_type": "display_data"
    }
   ],
   "source": [
    "plt.hist(ak.mean(ak.mean(shifted_pitches[:, :, aeolian], axis=-1) > ak.mean(shifted_pitches[:, :, ~aeolian], axis=-1), axis=-1)[is_minor], bins=100, range=(0, 1));"
   ]
  },
  {
   "cell_type": "code",
   "execution_count": 171,
   "id": "special-cancellation",
   "metadata": {},
   "outputs": [
    {
     "data": {
      "image/png": "[encoded data removed]",
      "text/plain": [
       "<Figure size 432x288 with 1 Axes>"
      ]
     },
     "metadata": {
      "needs_background": "light"
     },
     "output_type": "display_data"
    }
   ],
   "source": [
    "plt.hist(ak.mean(ak.mean(shifted_pitches[:, :, locrian], axis=-1) > ak.mean(shifted_pitches[:, :, ~locrian], axis=-1), axis=-1), bins=100, range=(0, 1));"
   ]
  },
  {
   "cell_type": "code",
   "execution_count": 185,
   "id": "automatic-grocery",
   "metadata": {},
   "outputs": [
    {
     "data": {
      "text/plain": [
       "[{'artist_name': 'Phil Collins', 'title': 'Please Come Out Tonight'},\n",
       " {'artist_name': 'Sharon Burch', 'title': 'Newborn Blessing (World)'},\n",
       " {'artist_name': 'The Field Mice', 'title': 'Below The Stars'},\n",
       " {'artist_name': 'Funeral For A Friend', 'title': 'Building'},\n",
       " {'artist_name': 'Javier Navarrete', 'title': 'Midnight Swim'},\n",
       " {'artist_name': 'Mariano Yanani', 'title': 'Why Should I Cry For You'},\n",
       " {'artist_name': 'Mariano Yanani',\n",
       "  'title': \"I Still Haven't Found What I'm Looking For\"},\n",
       " {'artist_name': 'Mariano Yanani',\n",
       "  'title': \"Stuck In A Moment You can't Get Out Of\"},\n",
       " {'artist_name': \"O'2L\", 'title': 'Little Edith'},\n",
       " {'artist_name': 'Séamus Egan',\n",
       "  'title': 'Poultry in the Parlour / Rolling the Ryegrass'},\n",
       " {'artist_name': 'Solomon',\n",
       "  'title': '25 Variations And Fugue On A Theme By G.F. Handel For Piano_ Op. 24: Variation XVII'},\n",
       " {'artist_name': 'Bill Douglas', 'title': 'Infant Dreams'},\n",
       " {'artist_name': 'Marcelo Radulovich', 'title': 'Non-Stop Floater'},\n",
       " {'artist_name': 'Susana Seivane', 'title': 'Xoanina'},\n",
       " {'artist_name': 'Brand X', 'title': 'Collapsar'},\n",
       " {'artist_name': 'lextrical', 'title': 'Synthetic Dream'},\n",
       " {'artist_name': 'Willie Clancy', 'title': 'Double Jig: The Rolling Wave'},\n",
       " {'artist_name': 'Britney Spears', 'title': 'Someday (I Will Understand)'},\n",
       " {'artist_name': 'Bruce Rowland', 'title': 'You Should Be Free'},\n",
       " {'artist_name': 'Steven Halpern',\n",
       "  'title': '6th Chakra: Keynote A - Chakra Suite (Solo Electric Piano Plus Synths)'}]"
      ]
     },
     "execution_count": 185,
     "metadata": {},
     "output_type": "execute_result"
    }
   ],
   "source": [
    "mixolydianness = ak.mean(ak.mean(shifted_pitches[:, :, mixolydian], axis=-1) > ak.mean(shifted_pitches[:, :, ~mixolydian], axis=-1), axis=-1)\n",
    "songs.metadata[[\"artist_name\", \"title\"]][ak.argsort(mixolydianness)][-20:].tolist()"
   ]
  },
  {
   "cell_type": "code",
   "execution_count": null,
   "id": "neural-antibody",
   "metadata": {},
   "outputs": [],
   "source": []
  },
  {
   "cell_type": "code",
   "execution_count": null,
   "id": "criminal-barrel",
   "metadata": {},
   "outputs": [],
   "source": []
  },
  {
   "cell_type": "code",
   "execution_count": null,
   "id": "remarkable-reality",
   "metadata": {},
   "outputs": [],
   "source": []
  },
  {
   "cell_type": "code",
   "execution_count": null,
   "id": "double-ranking",
   "metadata": {},
   "outputs": [],
   "source": []
  },
  {
   "cell_type": "code",
   "execution_count": null,
   "id": "illegal-finance",
   "metadata": {},
   "outputs": [],
   "source": []
  },
  {
   "cell_type": "code",
   "execution_count": null,
   "id": "waiting-wichita",
   "metadata": {},
   "outputs": [],
   "source": []
  },
  {
   "cell_type": "code",
   "execution_count": null,
   "id": "noted-dividend",
   "metadata": {},
   "outputs": [],
   "source": []
  },
  {
   "cell_type": "code",
   "execution_count": null,
   "id": "adolescent-consumption",
   "metadata": {},
   "outputs": [],
   "source": []
  },
  {
   "cell_type": "code",
   "execution_count": 184,
   "id": "public-imperial",
   "metadata": {},
   "outputs": [
    {
     "data": {
      "text/plain": [
       "<matplotlib.image.AxesImage at 0x7f6df0be9a00>"
      ]
     },
     "execution_count": 184,
     "metadata": {},
     "output_type": "execute_result"
    },
    {
     "data": {
      "image/png": "[encoded data removed]",
      "text/plain": [
       "<Figure size 2160x720 with 1 Axes>"
      ]
     },
     "metadata": {
      "needs_background": "light"
     },
     "output_type": "display_data"
    }
   ],
   "source": [
    "fig, ax = plt.subplots(1, 1, figsize=(30, 10))\n",
    "ax.imshow(np.asarray(songs.analysis.segments.pitches[(songs.metadata.artist_name == \"Nine Inch Nails\") & (songs.metadata.title == \"The Frail\")][0]).T, aspect=10, interpolation=\"nearest\", cmap=\"Reds\", origin=\"lower\")"
   ]
  },
  {
   "cell_type": "code",
   "execution_count": null,
   "id": "separated-wales",
   "metadata": {},
   "outputs": [],
   "source": []
  }
 ],
 "metadata": {
  "kernelspec": {
   "display_name": "Python 3",
   "language": "python",
   "name": "python3"
  },
  "language_info": {
   "codemirror_mode": {
    "name": "ipython",
    "version": 3
   },
   "file_extension": ".py",
   "mimetype": "text/x-python",
   "name": "python",
   "nbconvert_exporter": "python",
   "pygments_lexer": "ipython3",
   "version": "3.8.6"
  }
 },
 "nbformat": 4,
 "nbformat_minor": 5
}
